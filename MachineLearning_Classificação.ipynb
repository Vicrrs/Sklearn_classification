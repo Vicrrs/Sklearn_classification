{
  "nbformat": 4,
  "nbformat_minor": 0,
  "metadata": {
    "colab": {
      "provenance": [],
      "collapsed_sections": [],
      "authorship_tag": "ABX9TyMixLPhIyp2RWBG/bG5W7fA",
      "include_colab_link": true
    },
    "kernelspec": {
      "name": "python3",
      "display_name": "Python 3"
    },
    "language_info": {
      "name": "python"
    }
  },
  "cells": [
    {
      "cell_type": "markdown",
      "metadata": {
        "id": "view-in-github",
        "colab_type": "text"
      },
      "source": [
        "<a href=\"https://colab.research.google.com/github/Vicrrs/Sklearn_classification/blob/main/MachineLearning_Classifica%C3%A7%C3%A3o.ipynb\" target=\"_parent\"><img src=\"https://colab.research.google.com/assets/colab-badge.svg\" alt=\"Open In Colab\"/></a>"
      ]
    },
    {
      "cell_type": "code",
      "source": [
        "!pip install scikit-learn\n",
        "\n"
      ],
      "metadata": {
        "colab": {
          "base_uri": "https://localhost:8080/"
        },
        "id": "2GjgdHnJAtwC",
        "outputId": "cb714981-bed4-4274-839c-9ad6b7b7b36b"
      },
      "execution_count": 1,
      "outputs": [
        {
          "output_type": "stream",
          "name": "stdout",
          "text": [
            "Looking in indexes: https://pypi.org/simple, https://us-python.pkg.dev/colab-wheels/public/simple/\n",
            "Requirement already satisfied: scikit-learn in /usr/local/lib/python3.7/dist-packages (1.0.2)\n",
            "Requirement already satisfied: threadpoolctl>=2.0.0 in /usr/local/lib/python3.7/dist-packages (from scikit-learn) (3.1.0)\n",
            "Requirement already satisfied: scipy>=1.1.0 in /usr/local/lib/python3.7/dist-packages (from scikit-learn) (1.7.3)\n",
            "Requirement already satisfied: joblib>=0.11 in /usr/local/lib/python3.7/dist-packages (from scikit-learn) (1.1.0)\n",
            "Requirement already satisfied: numpy>=1.14.6 in /usr/local/lib/python3.7/dist-packages (from scikit-learn) (1.21.6)\n"
          ]
        }
      ]
    },
    {
      "cell_type": "markdown",
      "source": [
        "## Importando os dados"
      ],
      "metadata": {
        "id": "NwdOliHnn5Qq"
      }
    },
    {
      "cell_type": "code",
      "execution_count": 2,
      "metadata": {
        "id": "Wp8BCgF4lufv"
      },
      "outputs": [],
      "source": [
        "import pandas as pd"
      ]
    },
    {
      "cell_type": "code",
      "source": [
        "dados = pd.read_csv('/content/base.csv')"
      ],
      "metadata": {
        "id": "fnjURXNan9mJ"
      },
      "execution_count": 3,
      "outputs": []
    },
    {
      "cell_type": "code",
      "source": [
        "# linhas/colunas\n",
        "dados.shape"
      ],
      "metadata": {
        "colab": {
          "base_uri": "https://localhost:8080/"
        },
        "id": "dwuEw4QAoT5q",
        "outputId": "b4e2a1a6-93c0-4b65-8c12-ad0f9367c981"
      },
      "execution_count": 4,
      "outputs": [
        {
          "output_type": "execute_result",
          "data": {
            "text/plain": [
              "(7043, 18)"
            ]
          },
          "metadata": {},
          "execution_count": 4
        }
      ]
    },
    {
      "cell_type": "code",
      "source": [
        "dados.head()"
      ],
      "metadata": {
        "colab": {
          "base_uri": "https://localhost:8080/",
          "height": 270
        },
        "id": "w05l9mR0ohki",
        "outputId": "1b218d5e-1303-46c5-d3fb-926b06441891"
      },
      "execution_count": 5,
      "outputs": [
        {
          "output_type": "execute_result",
          "data": {
            "text/plain": [
              "   Maior65Anos Conjuge Dependentes  MesesDeContrato TelefoneFixo  \\\n",
              "0            0     Sim         Nao                1          Nao   \n",
              "1            0     Nao         Nao               34          Sim   \n",
              "2            0     Nao         Nao                2          Sim   \n",
              "3            0     Nao         Nao               45          Nao   \n",
              "4            0     Nao         Nao                2          Sim   \n",
              "\n",
              "  VariasLinhasTelefonicas ServicoDeInternet SegurancaOnline BackupOnline  \\\n",
              "0    SemServicoTelefonico               DSL             Nao          Sim   \n",
              "1                     Nao               DSL             Sim          Nao   \n",
              "2                     Nao               DSL             Sim          Sim   \n",
              "3    SemServicoTelefonico               DSL             Sim          Nao   \n",
              "4                     Nao       FibraOptica             Nao          Nao   \n",
              "\n",
              "  SeguroNoDispositivo SuporteTecnico TVaCabo StreamingDeFilmes TipoDeContrato  \\\n",
              "0                 Nao            Nao     Nao               Nao    Mensalmente   \n",
              "1                 Sim            Nao     Nao               Nao          UmAno   \n",
              "2                 Nao            Nao     Nao               Nao    Mensalmente   \n",
              "3                 Sim            Sim     Nao               Nao          UmAno   \n",
              "4                 Nao            Nao     Nao               Nao    Mensalmente   \n",
              "\n",
              "  PagamentoOnline FormaDePagamento  ContaMensal Churn  \n",
              "0             Sim    ChequeDigital        29.85   Nao  \n",
              "1             Nao      ChequePapel        56.95   Nao  \n",
              "2             Sim      ChequePapel        53.85   Sim  \n",
              "3             Nao    DebitoEmConta        42.30   Nao  \n",
              "4             Sim    ChequeDigital        70.70   Sim  "
            ],
            "text/html": [
              "\n",
              "  <div id=\"df-3304cbb7-5efc-4620-97dc-a3601c9b0b61\">\n",
              "    <div class=\"colab-df-container\">\n",
              "      <div>\n",
              "<style scoped>\n",
              "    .dataframe tbody tr th:only-of-type {\n",
              "        vertical-align: middle;\n",
              "    }\n",
              "\n",
              "    .dataframe tbody tr th {\n",
              "        vertical-align: top;\n",
              "    }\n",
              "\n",
              "    .dataframe thead th {\n",
              "        text-align: right;\n",
              "    }\n",
              "</style>\n",
              "<table border=\"1\" class=\"dataframe\">\n",
              "  <thead>\n",
              "    <tr style=\"text-align: right;\">\n",
              "      <th></th>\n",
              "      <th>Maior65Anos</th>\n",
              "      <th>Conjuge</th>\n",
              "      <th>Dependentes</th>\n",
              "      <th>MesesDeContrato</th>\n",
              "      <th>TelefoneFixo</th>\n",
              "      <th>VariasLinhasTelefonicas</th>\n",
              "      <th>ServicoDeInternet</th>\n",
              "      <th>SegurancaOnline</th>\n",
              "      <th>BackupOnline</th>\n",
              "      <th>SeguroNoDispositivo</th>\n",
              "      <th>SuporteTecnico</th>\n",
              "      <th>TVaCabo</th>\n",
              "      <th>StreamingDeFilmes</th>\n",
              "      <th>TipoDeContrato</th>\n",
              "      <th>PagamentoOnline</th>\n",
              "      <th>FormaDePagamento</th>\n",
              "      <th>ContaMensal</th>\n",
              "      <th>Churn</th>\n",
              "    </tr>\n",
              "  </thead>\n",
              "  <tbody>\n",
              "    <tr>\n",
              "      <th>0</th>\n",
              "      <td>0</td>\n",
              "      <td>Sim</td>\n",
              "      <td>Nao</td>\n",
              "      <td>1</td>\n",
              "      <td>Nao</td>\n",
              "      <td>SemServicoTelefonico</td>\n",
              "      <td>DSL</td>\n",
              "      <td>Nao</td>\n",
              "      <td>Sim</td>\n",
              "      <td>Nao</td>\n",
              "      <td>Nao</td>\n",
              "      <td>Nao</td>\n",
              "      <td>Nao</td>\n",
              "      <td>Mensalmente</td>\n",
              "      <td>Sim</td>\n",
              "      <td>ChequeDigital</td>\n",
              "      <td>29.85</td>\n",
              "      <td>Nao</td>\n",
              "    </tr>\n",
              "    <tr>\n",
              "      <th>1</th>\n",
              "      <td>0</td>\n",
              "      <td>Nao</td>\n",
              "      <td>Nao</td>\n",
              "      <td>34</td>\n",
              "      <td>Sim</td>\n",
              "      <td>Nao</td>\n",
              "      <td>DSL</td>\n",
              "      <td>Sim</td>\n",
              "      <td>Nao</td>\n",
              "      <td>Sim</td>\n",
              "      <td>Nao</td>\n",
              "      <td>Nao</td>\n",
              "      <td>Nao</td>\n",
              "      <td>UmAno</td>\n",
              "      <td>Nao</td>\n",
              "      <td>ChequePapel</td>\n",
              "      <td>56.95</td>\n",
              "      <td>Nao</td>\n",
              "    </tr>\n",
              "    <tr>\n",
              "      <th>2</th>\n",
              "      <td>0</td>\n",
              "      <td>Nao</td>\n",
              "      <td>Nao</td>\n",
              "      <td>2</td>\n",
              "      <td>Sim</td>\n",
              "      <td>Nao</td>\n",
              "      <td>DSL</td>\n",
              "      <td>Sim</td>\n",
              "      <td>Sim</td>\n",
              "      <td>Nao</td>\n",
              "      <td>Nao</td>\n",
              "      <td>Nao</td>\n",
              "      <td>Nao</td>\n",
              "      <td>Mensalmente</td>\n",
              "      <td>Sim</td>\n",
              "      <td>ChequePapel</td>\n",
              "      <td>53.85</td>\n",
              "      <td>Sim</td>\n",
              "    </tr>\n",
              "    <tr>\n",
              "      <th>3</th>\n",
              "      <td>0</td>\n",
              "      <td>Nao</td>\n",
              "      <td>Nao</td>\n",
              "      <td>45</td>\n",
              "      <td>Nao</td>\n",
              "      <td>SemServicoTelefonico</td>\n",
              "      <td>DSL</td>\n",
              "      <td>Sim</td>\n",
              "      <td>Nao</td>\n",
              "      <td>Sim</td>\n",
              "      <td>Sim</td>\n",
              "      <td>Nao</td>\n",
              "      <td>Nao</td>\n",
              "      <td>UmAno</td>\n",
              "      <td>Nao</td>\n",
              "      <td>DebitoEmConta</td>\n",
              "      <td>42.30</td>\n",
              "      <td>Nao</td>\n",
              "    </tr>\n",
              "    <tr>\n",
              "      <th>4</th>\n",
              "      <td>0</td>\n",
              "      <td>Nao</td>\n",
              "      <td>Nao</td>\n",
              "      <td>2</td>\n",
              "      <td>Sim</td>\n",
              "      <td>Nao</td>\n",
              "      <td>FibraOptica</td>\n",
              "      <td>Nao</td>\n",
              "      <td>Nao</td>\n",
              "      <td>Nao</td>\n",
              "      <td>Nao</td>\n",
              "      <td>Nao</td>\n",
              "      <td>Nao</td>\n",
              "      <td>Mensalmente</td>\n",
              "      <td>Sim</td>\n",
              "      <td>ChequeDigital</td>\n",
              "      <td>70.70</td>\n",
              "      <td>Sim</td>\n",
              "    </tr>\n",
              "  </tbody>\n",
              "</table>\n",
              "</div>\n",
              "      <button class=\"colab-df-convert\" onclick=\"convertToInteractive('df-3304cbb7-5efc-4620-97dc-a3601c9b0b61')\"\n",
              "              title=\"Convert this dataframe to an interactive table.\"\n",
              "              style=\"display:none;\">\n",
              "        \n",
              "  <svg xmlns=\"http://www.w3.org/2000/svg\" height=\"24px\"viewBox=\"0 0 24 24\"\n",
              "       width=\"24px\">\n",
              "    <path d=\"M0 0h24v24H0V0z\" fill=\"none\"/>\n",
              "    <path d=\"M18.56 5.44l.94 2.06.94-2.06 2.06-.94-2.06-.94-.94-2.06-.94 2.06-2.06.94zm-11 1L8.5 8.5l.94-2.06 2.06-.94-2.06-.94L8.5 2.5l-.94 2.06-2.06.94zm10 10l.94 2.06.94-2.06 2.06-.94-2.06-.94-.94-2.06-.94 2.06-2.06.94z\"/><path d=\"M17.41 7.96l-1.37-1.37c-.4-.4-.92-.59-1.43-.59-.52 0-1.04.2-1.43.59L10.3 9.45l-7.72 7.72c-.78.78-.78 2.05 0 2.83L4 21.41c.39.39.9.59 1.41.59.51 0 1.02-.2 1.41-.59l7.78-7.78 2.81-2.81c.8-.78.8-2.07 0-2.86zM5.41 20L4 18.59l7.72-7.72 1.47 1.35L5.41 20z\"/>\n",
              "  </svg>\n",
              "      </button>\n",
              "      \n",
              "  <style>\n",
              "    .colab-df-container {\n",
              "      display:flex;\n",
              "      flex-wrap:wrap;\n",
              "      gap: 12px;\n",
              "    }\n",
              "\n",
              "    .colab-df-convert {\n",
              "      background-color: #E8F0FE;\n",
              "      border: none;\n",
              "      border-radius: 50%;\n",
              "      cursor: pointer;\n",
              "      display: none;\n",
              "      fill: #1967D2;\n",
              "      height: 32px;\n",
              "      padding: 0 0 0 0;\n",
              "      width: 32px;\n",
              "    }\n",
              "\n",
              "    .colab-df-convert:hover {\n",
              "      background-color: #E2EBFA;\n",
              "      box-shadow: 0px 1px 2px rgba(60, 64, 67, 0.3), 0px 1px 3px 1px rgba(60, 64, 67, 0.15);\n",
              "      fill: #174EA6;\n",
              "    }\n",
              "\n",
              "    [theme=dark] .colab-df-convert {\n",
              "      background-color: #3B4455;\n",
              "      fill: #D2E3FC;\n",
              "    }\n",
              "\n",
              "    [theme=dark] .colab-df-convert:hover {\n",
              "      background-color: #434B5C;\n",
              "      box-shadow: 0px 1px 3px 1px rgba(0, 0, 0, 0.15);\n",
              "      filter: drop-shadow(0px 1px 2px rgba(0, 0, 0, 0.3));\n",
              "      fill: #FFFFFF;\n",
              "    }\n",
              "  </style>\n",
              "\n",
              "      <script>\n",
              "        const buttonEl =\n",
              "          document.querySelector('#df-3304cbb7-5efc-4620-97dc-a3601c9b0b61 button.colab-df-convert');\n",
              "        buttonEl.style.display =\n",
              "          google.colab.kernel.accessAllowed ? 'block' : 'none';\n",
              "\n",
              "        async function convertToInteractive(key) {\n",
              "          const element = document.querySelector('#df-3304cbb7-5efc-4620-97dc-a3601c9b0b61');\n",
              "          const dataTable =\n",
              "            await google.colab.kernel.invokeFunction('convertToInteractive',\n",
              "                                                     [key], {});\n",
              "          if (!dataTable) return;\n",
              "\n",
              "          const docLinkHtml = 'Like what you see? Visit the ' +\n",
              "            '<a target=\"_blank\" href=https://colab.research.google.com/notebooks/data_table.ipynb>data table notebook</a>'\n",
              "            + ' to learn more about interactive tables.';\n",
              "          element.innerHTML = '';\n",
              "          dataTable['output_type'] = 'display_data';\n",
              "          await google.colab.output.renderOutput(dataTable, element);\n",
              "          const docLink = document.createElement('div');\n",
              "          docLink.innerHTML = docLinkHtml;\n",
              "          element.appendChild(docLink);\n",
              "        }\n",
              "      </script>\n",
              "    </div>\n",
              "  </div>\n",
              "  "
            ]
          },
          "metadata": {},
          "execution_count": 5
        }
      ]
    },
    {
      "cell_type": "markdown",
      "source": [
        "Variaveis Categoricas - Agrupamento por caracteristicas em comum. Agrupamento por valores qualitativos.\n",
        "\n",
        "Variaveis númericas - Representa uma medida ou um conjunto infinito de valores"
      ],
      "metadata": {
        "id": "ZTIN6YpPqXIF"
      }
    },
    {
      "cell_type": "markdown",
      "source": [
        "## Diferentes Variáveis"
      ],
      "metadata": {
        "id": "KfNzhltxqPuX"
      }
    },
    {
      "cell_type": "code",
      "source": [
        "#modificação  dde forma manual\n",
        "traducao_dic = {'Sim' : 1,\n",
        "                'Nao' : 0}\n",
        "\n",
        "dadosmodificados = dados[['Conjuge', 'Dependentes', 'TelefoneFixo', 'PagamentoOnline', 'Churn']].replace(traducao_dic)\n",
        "dadosmodificados.head()"
      ],
      "metadata": {
        "colab": {
          "base_uri": "https://localhost:8080/",
          "height": 206
        },
        "id": "KuuITFSeqnbG",
        "outputId": "cdb5ed65-cbe3-4d88-ca6e-ce49c363be2b"
      },
      "execution_count": 6,
      "outputs": [
        {
          "output_type": "execute_result",
          "data": {
            "text/plain": [
              "   Conjuge  Dependentes  TelefoneFixo  PagamentoOnline  Churn\n",
              "0        1            0             0                1      0\n",
              "1        0            0             1                0      0\n",
              "2        0            0             1                1      1\n",
              "3        0            0             0                0      0\n",
              "4        0            0             1                1      1"
            ],
            "text/html": [
              "\n",
              "  <div id=\"df-1dd6a6d4-4657-4cf5-bab3-4a9ca1825df1\">\n",
              "    <div class=\"colab-df-container\">\n",
              "      <div>\n",
              "<style scoped>\n",
              "    .dataframe tbody tr th:only-of-type {\n",
              "        vertical-align: middle;\n",
              "    }\n",
              "\n",
              "    .dataframe tbody tr th {\n",
              "        vertical-align: top;\n",
              "    }\n",
              "\n",
              "    .dataframe thead th {\n",
              "        text-align: right;\n",
              "    }\n",
              "</style>\n",
              "<table border=\"1\" class=\"dataframe\">\n",
              "  <thead>\n",
              "    <tr style=\"text-align: right;\">\n",
              "      <th></th>\n",
              "      <th>Conjuge</th>\n",
              "      <th>Dependentes</th>\n",
              "      <th>TelefoneFixo</th>\n",
              "      <th>PagamentoOnline</th>\n",
              "      <th>Churn</th>\n",
              "    </tr>\n",
              "  </thead>\n",
              "  <tbody>\n",
              "    <tr>\n",
              "      <th>0</th>\n",
              "      <td>1</td>\n",
              "      <td>0</td>\n",
              "      <td>0</td>\n",
              "      <td>1</td>\n",
              "      <td>0</td>\n",
              "    </tr>\n",
              "    <tr>\n",
              "      <th>1</th>\n",
              "      <td>0</td>\n",
              "      <td>0</td>\n",
              "      <td>1</td>\n",
              "      <td>0</td>\n",
              "      <td>0</td>\n",
              "    </tr>\n",
              "    <tr>\n",
              "      <th>2</th>\n",
              "      <td>0</td>\n",
              "      <td>0</td>\n",
              "      <td>1</td>\n",
              "      <td>1</td>\n",
              "      <td>1</td>\n",
              "    </tr>\n",
              "    <tr>\n",
              "      <th>3</th>\n",
              "      <td>0</td>\n",
              "      <td>0</td>\n",
              "      <td>0</td>\n",
              "      <td>0</td>\n",
              "      <td>0</td>\n",
              "    </tr>\n",
              "    <tr>\n",
              "      <th>4</th>\n",
              "      <td>0</td>\n",
              "      <td>0</td>\n",
              "      <td>1</td>\n",
              "      <td>1</td>\n",
              "      <td>1</td>\n",
              "    </tr>\n",
              "  </tbody>\n",
              "</table>\n",
              "</div>\n",
              "      <button class=\"colab-df-convert\" onclick=\"convertToInteractive('df-1dd6a6d4-4657-4cf5-bab3-4a9ca1825df1')\"\n",
              "              title=\"Convert this dataframe to an interactive table.\"\n",
              "              style=\"display:none;\">\n",
              "        \n",
              "  <svg xmlns=\"http://www.w3.org/2000/svg\" height=\"24px\"viewBox=\"0 0 24 24\"\n",
              "       width=\"24px\">\n",
              "    <path d=\"M0 0h24v24H0V0z\" fill=\"none\"/>\n",
              "    <path d=\"M18.56 5.44l.94 2.06.94-2.06 2.06-.94-2.06-.94-.94-2.06-.94 2.06-2.06.94zm-11 1L8.5 8.5l.94-2.06 2.06-.94-2.06-.94L8.5 2.5l-.94 2.06-2.06.94zm10 10l.94 2.06.94-2.06 2.06-.94-2.06-.94-.94-2.06-.94 2.06-2.06.94z\"/><path d=\"M17.41 7.96l-1.37-1.37c-.4-.4-.92-.59-1.43-.59-.52 0-1.04.2-1.43.59L10.3 9.45l-7.72 7.72c-.78.78-.78 2.05 0 2.83L4 21.41c.39.39.9.59 1.41.59.51 0 1.02-.2 1.41-.59l7.78-7.78 2.81-2.81c.8-.78.8-2.07 0-2.86zM5.41 20L4 18.59l7.72-7.72 1.47 1.35L5.41 20z\"/>\n",
              "  </svg>\n",
              "      </button>\n",
              "      \n",
              "  <style>\n",
              "    .colab-df-container {\n",
              "      display:flex;\n",
              "      flex-wrap:wrap;\n",
              "      gap: 12px;\n",
              "    }\n",
              "\n",
              "    .colab-df-convert {\n",
              "      background-color: #E8F0FE;\n",
              "      border: none;\n",
              "      border-radius: 50%;\n",
              "      cursor: pointer;\n",
              "      display: none;\n",
              "      fill: #1967D2;\n",
              "      height: 32px;\n",
              "      padding: 0 0 0 0;\n",
              "      width: 32px;\n",
              "    }\n",
              "\n",
              "    .colab-df-convert:hover {\n",
              "      background-color: #E2EBFA;\n",
              "      box-shadow: 0px 1px 2px rgba(60, 64, 67, 0.3), 0px 1px 3px 1px rgba(60, 64, 67, 0.15);\n",
              "      fill: #174EA6;\n",
              "    }\n",
              "\n",
              "    [theme=dark] .colab-df-convert {\n",
              "      background-color: #3B4455;\n",
              "      fill: #D2E3FC;\n",
              "    }\n",
              "\n",
              "    [theme=dark] .colab-df-convert:hover {\n",
              "      background-color: #434B5C;\n",
              "      box-shadow: 0px 1px 3px 1px rgba(0, 0, 0, 0.15);\n",
              "      filter: drop-shadow(0px 1px 2px rgba(0, 0, 0, 0.3));\n",
              "      fill: #FFFFFF;\n",
              "    }\n",
              "  </style>\n",
              "\n",
              "      <script>\n",
              "        const buttonEl =\n",
              "          document.querySelector('#df-1dd6a6d4-4657-4cf5-bab3-4a9ca1825df1 button.colab-df-convert');\n",
              "        buttonEl.style.display =\n",
              "          google.colab.kernel.accessAllowed ? 'block' : 'none';\n",
              "\n",
              "        async function convertToInteractive(key) {\n",
              "          const element = document.querySelector('#df-1dd6a6d4-4657-4cf5-bab3-4a9ca1825df1');\n",
              "          const dataTable =\n",
              "            await google.colab.kernel.invokeFunction('convertToInteractive',\n",
              "                                                     [key], {});\n",
              "          if (!dataTable) return;\n",
              "\n",
              "          const docLinkHtml = 'Like what you see? Visit the ' +\n",
              "            '<a target=\"_blank\" href=https://colab.research.google.com/notebooks/data_table.ipynb>data table notebook</a>'\n",
              "            + ' to learn more about interactive tables.';\n",
              "          element.innerHTML = '';\n",
              "          dataTable['output_type'] = 'display_data';\n",
              "          await google.colab.output.renderOutput(dataTable, element);\n",
              "          const docLink = document.createElement('div');\n",
              "          docLink.innerHTML = docLinkHtml;\n",
              "          element.appendChild(docLink);\n",
              "        }\n",
              "      </script>\n",
              "    </div>\n",
              "  </div>\n",
              "  "
            ]
          },
          "metadata": {},
          "execution_count": 6
        }
      ]
    },
    {
      "cell_type": "code",
      "source": [
        "# transformação pelo getdummies\n",
        "dummie_dados = pd.get_dummies(dados.drop(['Conjuge', 'Dependentes', 'TelefoneFixo', 'PagamentoOnline', 'Churn'], axis=1))\n",
        "#junção dos dados transformandos com os que já tinham\n",
        "dados_final = pd.concat([dadosmodificados, dummie_dados], axis=1)"
      ],
      "metadata": {
        "id": "VhLYzb2drQIZ"
      },
      "execution_count": 7,
      "outputs": []
    },
    {
      "cell_type": "code",
      "source": [
        "dados_final.head()"
      ],
      "metadata": {
        "colab": {
          "base_uri": "https://localhost:8080/",
          "height": 299
        },
        "id": "Bo5PpvEVr8t_",
        "outputId": "d94cd6ab-dec0-46a5-f299-41edcd201437"
      },
      "execution_count": 8,
      "outputs": [
        {
          "output_type": "execute_result",
          "data": {
            "text/plain": [
              "   Conjuge  Dependentes  TelefoneFixo  PagamentoOnline  Churn  Maior65Anos  \\\n",
              "0        1            0             0                1      0            0   \n",
              "1        0            0             1                0      0            0   \n",
              "2        0            0             1                1      1            0   \n",
              "3        0            0             0                0      0            0   \n",
              "4        0            0             1                1      1            0   \n",
              "\n",
              "   MesesDeContrato  ContaMensal  VariasLinhasTelefonicas_Nao  \\\n",
              "0                1        29.85                            0   \n",
              "1               34        56.95                            1   \n",
              "2                2        53.85                            1   \n",
              "3               45        42.30                            0   \n",
              "4                2        70.70                            1   \n",
              "\n",
              "   VariasLinhasTelefonicas_SemServicoTelefonico  ...  StreamingDeFilmes_Nao  \\\n",
              "0                                             1  ...                      1   \n",
              "1                                             0  ...                      1   \n",
              "2                                             0  ...                      1   \n",
              "3                                             1  ...                      1   \n",
              "4                                             0  ...                      1   \n",
              "\n",
              "   StreamingDeFilmes_SemServicoDeInternet  StreamingDeFilmes_Sim  \\\n",
              "0                                       0                      0   \n",
              "1                                       0                      0   \n",
              "2                                       0                      0   \n",
              "3                                       0                      0   \n",
              "4                                       0                      0   \n",
              "\n",
              "   TipoDeContrato_DoisAnos  TipoDeContrato_Mensalmente  TipoDeContrato_UmAno  \\\n",
              "0                        0                           1                     0   \n",
              "1                        0                           0                     1   \n",
              "2                        0                           1                     0   \n",
              "3                        0                           0                     1   \n",
              "4                        0                           1                     0   \n",
              "\n",
              "   FormaDePagamento_CartaoDeCredito  FormaDePagamento_ChequeDigital  \\\n",
              "0                                 0                               1   \n",
              "1                                 0                               0   \n",
              "2                                 0                               0   \n",
              "3                                 0                               0   \n",
              "4                                 0                               1   \n",
              "\n",
              "   FormaDePagamento_ChequePapel  FormaDePagamento_DebitoEmConta  \n",
              "0                             0                               0  \n",
              "1                             1                               0  \n",
              "2                             1                               0  \n",
              "3                             0                               1  \n",
              "4                             0                               0  \n",
              "\n",
              "[5 rows x 39 columns]"
            ],
            "text/html": [
              "\n",
              "  <div id=\"df-99573c86-bfa1-47b7-bef7-41b8f7cb7422\">\n",
              "    <div class=\"colab-df-container\">\n",
              "      <div>\n",
              "<style scoped>\n",
              "    .dataframe tbody tr th:only-of-type {\n",
              "        vertical-align: middle;\n",
              "    }\n",
              "\n",
              "    .dataframe tbody tr th {\n",
              "        vertical-align: top;\n",
              "    }\n",
              "\n",
              "    .dataframe thead th {\n",
              "        text-align: right;\n",
              "    }\n",
              "</style>\n",
              "<table border=\"1\" class=\"dataframe\">\n",
              "  <thead>\n",
              "    <tr style=\"text-align: right;\">\n",
              "      <th></th>\n",
              "      <th>Conjuge</th>\n",
              "      <th>Dependentes</th>\n",
              "      <th>TelefoneFixo</th>\n",
              "      <th>PagamentoOnline</th>\n",
              "      <th>Churn</th>\n",
              "      <th>Maior65Anos</th>\n",
              "      <th>MesesDeContrato</th>\n",
              "      <th>ContaMensal</th>\n",
              "      <th>VariasLinhasTelefonicas_Nao</th>\n",
              "      <th>VariasLinhasTelefonicas_SemServicoTelefonico</th>\n",
              "      <th>...</th>\n",
              "      <th>StreamingDeFilmes_Nao</th>\n",
              "      <th>StreamingDeFilmes_SemServicoDeInternet</th>\n",
              "      <th>StreamingDeFilmes_Sim</th>\n",
              "      <th>TipoDeContrato_DoisAnos</th>\n",
              "      <th>TipoDeContrato_Mensalmente</th>\n",
              "      <th>TipoDeContrato_UmAno</th>\n",
              "      <th>FormaDePagamento_CartaoDeCredito</th>\n",
              "      <th>FormaDePagamento_ChequeDigital</th>\n",
              "      <th>FormaDePagamento_ChequePapel</th>\n",
              "      <th>FormaDePagamento_DebitoEmConta</th>\n",
              "    </tr>\n",
              "  </thead>\n",
              "  <tbody>\n",
              "    <tr>\n",
              "      <th>0</th>\n",
              "      <td>1</td>\n",
              "      <td>0</td>\n",
              "      <td>0</td>\n",
              "      <td>1</td>\n",
              "      <td>0</td>\n",
              "      <td>0</td>\n",
              "      <td>1</td>\n",
              "      <td>29.85</td>\n",
              "      <td>0</td>\n",
              "      <td>1</td>\n",
              "      <td>...</td>\n",
              "      <td>1</td>\n",
              "      <td>0</td>\n",
              "      <td>0</td>\n",
              "      <td>0</td>\n",
              "      <td>1</td>\n",
              "      <td>0</td>\n",
              "      <td>0</td>\n",
              "      <td>1</td>\n",
              "      <td>0</td>\n",
              "      <td>0</td>\n",
              "    </tr>\n",
              "    <tr>\n",
              "      <th>1</th>\n",
              "      <td>0</td>\n",
              "      <td>0</td>\n",
              "      <td>1</td>\n",
              "      <td>0</td>\n",
              "      <td>0</td>\n",
              "      <td>0</td>\n",
              "      <td>34</td>\n",
              "      <td>56.95</td>\n",
              "      <td>1</td>\n",
              "      <td>0</td>\n",
              "      <td>...</td>\n",
              "      <td>1</td>\n",
              "      <td>0</td>\n",
              "      <td>0</td>\n",
              "      <td>0</td>\n",
              "      <td>0</td>\n",
              "      <td>1</td>\n",
              "      <td>0</td>\n",
              "      <td>0</td>\n",
              "      <td>1</td>\n",
              "      <td>0</td>\n",
              "    </tr>\n",
              "    <tr>\n",
              "      <th>2</th>\n",
              "      <td>0</td>\n",
              "      <td>0</td>\n",
              "      <td>1</td>\n",
              "      <td>1</td>\n",
              "      <td>1</td>\n",
              "      <td>0</td>\n",
              "      <td>2</td>\n",
              "      <td>53.85</td>\n",
              "      <td>1</td>\n",
              "      <td>0</td>\n",
              "      <td>...</td>\n",
              "      <td>1</td>\n",
              "      <td>0</td>\n",
              "      <td>0</td>\n",
              "      <td>0</td>\n",
              "      <td>1</td>\n",
              "      <td>0</td>\n",
              "      <td>0</td>\n",
              "      <td>0</td>\n",
              "      <td>1</td>\n",
              "      <td>0</td>\n",
              "    </tr>\n",
              "    <tr>\n",
              "      <th>3</th>\n",
              "      <td>0</td>\n",
              "      <td>0</td>\n",
              "      <td>0</td>\n",
              "      <td>0</td>\n",
              "      <td>0</td>\n",
              "      <td>0</td>\n",
              "      <td>45</td>\n",
              "      <td>42.30</td>\n",
              "      <td>0</td>\n",
              "      <td>1</td>\n",
              "      <td>...</td>\n",
              "      <td>1</td>\n",
              "      <td>0</td>\n",
              "      <td>0</td>\n",
              "      <td>0</td>\n",
              "      <td>0</td>\n",
              "      <td>1</td>\n",
              "      <td>0</td>\n",
              "      <td>0</td>\n",
              "      <td>0</td>\n",
              "      <td>1</td>\n",
              "    </tr>\n",
              "    <tr>\n",
              "      <th>4</th>\n",
              "      <td>0</td>\n",
              "      <td>0</td>\n",
              "      <td>1</td>\n",
              "      <td>1</td>\n",
              "      <td>1</td>\n",
              "      <td>0</td>\n",
              "      <td>2</td>\n",
              "      <td>70.70</td>\n",
              "      <td>1</td>\n",
              "      <td>0</td>\n",
              "      <td>...</td>\n",
              "      <td>1</td>\n",
              "      <td>0</td>\n",
              "      <td>0</td>\n",
              "      <td>0</td>\n",
              "      <td>1</td>\n",
              "      <td>0</td>\n",
              "      <td>0</td>\n",
              "      <td>1</td>\n",
              "      <td>0</td>\n",
              "      <td>0</td>\n",
              "    </tr>\n",
              "  </tbody>\n",
              "</table>\n",
              "<p>5 rows × 39 columns</p>\n",
              "</div>\n",
              "      <button class=\"colab-df-convert\" onclick=\"convertToInteractive('df-99573c86-bfa1-47b7-bef7-41b8f7cb7422')\"\n",
              "              title=\"Convert this dataframe to an interactive table.\"\n",
              "              style=\"display:none;\">\n",
              "        \n",
              "  <svg xmlns=\"http://www.w3.org/2000/svg\" height=\"24px\"viewBox=\"0 0 24 24\"\n",
              "       width=\"24px\">\n",
              "    <path d=\"M0 0h24v24H0V0z\" fill=\"none\"/>\n",
              "    <path d=\"M18.56 5.44l.94 2.06.94-2.06 2.06-.94-2.06-.94-.94-2.06-.94 2.06-2.06.94zm-11 1L8.5 8.5l.94-2.06 2.06-.94-2.06-.94L8.5 2.5l-.94 2.06-2.06.94zm10 10l.94 2.06.94-2.06 2.06-.94-2.06-.94-.94-2.06-.94 2.06-2.06.94z\"/><path d=\"M17.41 7.96l-1.37-1.37c-.4-.4-.92-.59-1.43-.59-.52 0-1.04.2-1.43.59L10.3 9.45l-7.72 7.72c-.78.78-.78 2.05 0 2.83L4 21.41c.39.39.9.59 1.41.59.51 0 1.02-.2 1.41-.59l7.78-7.78 2.81-2.81c.8-.78.8-2.07 0-2.86zM5.41 20L4 18.59l7.72-7.72 1.47 1.35L5.41 20z\"/>\n",
              "  </svg>\n",
              "      </button>\n",
              "      \n",
              "  <style>\n",
              "    .colab-df-container {\n",
              "      display:flex;\n",
              "      flex-wrap:wrap;\n",
              "      gap: 12px;\n",
              "    }\n",
              "\n",
              "    .colab-df-convert {\n",
              "      background-color: #E8F0FE;\n",
              "      border: none;\n",
              "      border-radius: 50%;\n",
              "      cursor: pointer;\n",
              "      display: none;\n",
              "      fill: #1967D2;\n",
              "      height: 32px;\n",
              "      padding: 0 0 0 0;\n",
              "      width: 32px;\n",
              "    }\n",
              "\n",
              "    .colab-df-convert:hover {\n",
              "      background-color: #E2EBFA;\n",
              "      box-shadow: 0px 1px 2px rgba(60, 64, 67, 0.3), 0px 1px 3px 1px rgba(60, 64, 67, 0.15);\n",
              "      fill: #174EA6;\n",
              "    }\n",
              "\n",
              "    [theme=dark] .colab-df-convert {\n",
              "      background-color: #3B4455;\n",
              "      fill: #D2E3FC;\n",
              "    }\n",
              "\n",
              "    [theme=dark] .colab-df-convert:hover {\n",
              "      background-color: #434B5C;\n",
              "      box-shadow: 0px 1px 3px 1px rgba(0, 0, 0, 0.15);\n",
              "      filter: drop-shadow(0px 1px 2px rgba(0, 0, 0, 0.3));\n",
              "      fill: #FFFFFF;\n",
              "    }\n",
              "  </style>\n",
              "\n",
              "      <script>\n",
              "        const buttonEl =\n",
              "          document.querySelector('#df-99573c86-bfa1-47b7-bef7-41b8f7cb7422 button.colab-df-convert');\n",
              "        buttonEl.style.display =\n",
              "          google.colab.kernel.accessAllowed ? 'block' : 'none';\n",
              "\n",
              "        async function convertToInteractive(key) {\n",
              "          const element = document.querySelector('#df-99573c86-bfa1-47b7-bef7-41b8f7cb7422');\n",
              "          const dataTable =\n",
              "            await google.colab.kernel.invokeFunction('convertToInteractive',\n",
              "                                                     [key], {});\n",
              "          if (!dataTable) return;\n",
              "\n",
              "          const docLinkHtml = 'Like what you see? Visit the ' +\n",
              "            '<a target=\"_blank\" href=https://colab.research.google.com/notebooks/data_table.ipynb>data table notebook</a>'\n",
              "            + ' to learn more about interactive tables.';\n",
              "          element.innerHTML = '';\n",
              "          dataTable['output_type'] = 'display_data';\n",
              "          await google.colab.output.renderOutput(dataTable, element);\n",
              "          const docLink = document.createElement('div');\n",
              "          docLink.innerHTML = docLinkHtml;\n",
              "          element.appendChild(docLink);\n",
              "        }\n",
              "      </script>\n",
              "    </div>\n",
              "  </div>\n",
              "  "
            ]
          },
          "metadata": {},
          "execution_count": 8
        }
      ]
    },
    {
      "cell_type": "code",
      "source": [
        "dados_final.shape"
      ],
      "metadata": {
        "colab": {
          "base_uri": "https://localhost:8080/"
        },
        "id": "sg8pj7eCsFq-",
        "outputId": "59649d7f-3297-46bc-f78e-828a920ea585"
      },
      "execution_count": 9,
      "outputs": [
        {
          "output_type": "execute_result",
          "data": {
            "text/plain": [
              "(7043, 39)"
            ]
          },
          "metadata": {},
          "execution_count": 9
        }
      ]
    },
    {
      "cell_type": "markdown",
      "source": [
        "## Definição formal de classificação classificação"
      ],
      "metadata": {
        "id": "Yz0sd01WuoeG"
      }
    },
    {
      "cell_type": "markdown",
      "source": [
        "Informações para classificação:\n",
        "\n",
        "X = inputs (dados de entrada)\n",
        "\n",
        "y = outputs (dados de saída)"
      ],
      "metadata": {
        "id": "5fpXCEsJv9Tk"
      }
    },
    {
      "cell_type": "code",
      "source": [
        "#DICA\n",
        "\n",
        "pd.set_option('display.max_columns', 39)"
      ],
      "metadata": {
        "id": "FV4306P7sOsb"
      },
      "execution_count": 10,
      "outputs": []
    },
    {
      "cell_type": "code",
      "source": [
        "dados_final.head()"
      ],
      "metadata": {
        "colab": {
          "base_uri": "https://localhost:8080/",
          "height": 270
        },
        "id": "T_6WgDgdwPid",
        "outputId": "36f917b3-02df-460e-9991-9c678e0db604"
      },
      "execution_count": 11,
      "outputs": [
        {
          "output_type": "execute_result",
          "data": {
            "text/plain": [
              "   Conjuge  Dependentes  TelefoneFixo  PagamentoOnline  Churn  Maior65Anos  \\\n",
              "0        1            0             0                1      0            0   \n",
              "1        0            0             1                0      0            0   \n",
              "2        0            0             1                1      1            0   \n",
              "3        0            0             0                0      0            0   \n",
              "4        0            0             1                1      1            0   \n",
              "\n",
              "   MesesDeContrato  ContaMensal  VariasLinhasTelefonicas_Nao  \\\n",
              "0                1        29.85                            0   \n",
              "1               34        56.95                            1   \n",
              "2                2        53.85                            1   \n",
              "3               45        42.30                            0   \n",
              "4                2        70.70                            1   \n",
              "\n",
              "   VariasLinhasTelefonicas_SemServicoTelefonico  VariasLinhasTelefonicas_Sim  \\\n",
              "0                                             1                            0   \n",
              "1                                             0                            0   \n",
              "2                                             0                            0   \n",
              "3                                             1                            0   \n",
              "4                                             0                            0   \n",
              "\n",
              "   ServicoDeInternet_DSL  ServicoDeInternet_FibraOptica  \\\n",
              "0                      1                              0   \n",
              "1                      1                              0   \n",
              "2                      1                              0   \n",
              "3                      1                              0   \n",
              "4                      0                              1   \n",
              "\n",
              "   ServicoDeInternet_Nao  SegurancaOnline_Nao  \\\n",
              "0                      0                    1   \n",
              "1                      0                    0   \n",
              "2                      0                    0   \n",
              "3                      0                    0   \n",
              "4                      0                    1   \n",
              "\n",
              "   SegurancaOnline_SemServicoDeInternet  SegurancaOnline_Sim  \\\n",
              "0                                     0                    0   \n",
              "1                                     0                    1   \n",
              "2                                     0                    1   \n",
              "3                                     0                    1   \n",
              "4                                     0                    0   \n",
              "\n",
              "   BackupOnline_Nao  BackupOnline_SemServicoDeInternet  BackupOnline_Sim  \\\n",
              "0                 0                                  0                 1   \n",
              "1                 1                                  0                 0   \n",
              "2                 0                                  0                 1   \n",
              "3                 1                                  0                 0   \n",
              "4                 1                                  0                 0   \n",
              "\n",
              "   SeguroNoDispositivo_Nao  SeguroNoDispositivo_SemServicoDeInternet  \\\n",
              "0                        1                                         0   \n",
              "1                        0                                         0   \n",
              "2                        1                                         0   \n",
              "3                        0                                         0   \n",
              "4                        1                                         0   \n",
              "\n",
              "   SeguroNoDispositivo_Sim  SuporteTecnico_Nao  \\\n",
              "0                        0                   1   \n",
              "1                        1                   1   \n",
              "2                        0                   1   \n",
              "3                        1                   0   \n",
              "4                        0                   1   \n",
              "\n",
              "   SuporteTecnico_SemServicoDeInternet  SuporteTecnico_Sim  TVaCabo_Nao  \\\n",
              "0                                    0                   0            1   \n",
              "1                                    0                   0            1   \n",
              "2                                    0                   0            1   \n",
              "3                                    0                   1            1   \n",
              "4                                    0                   0            1   \n",
              "\n",
              "   TVaCabo_SemServicoDeInternet  TVaCabo_Sim  StreamingDeFilmes_Nao  \\\n",
              "0                             0            0                      1   \n",
              "1                             0            0                      1   \n",
              "2                             0            0                      1   \n",
              "3                             0            0                      1   \n",
              "4                             0            0                      1   \n",
              "\n",
              "   StreamingDeFilmes_SemServicoDeInternet  StreamingDeFilmes_Sim  \\\n",
              "0                                       0                      0   \n",
              "1                                       0                      0   \n",
              "2                                       0                      0   \n",
              "3                                       0                      0   \n",
              "4                                       0                      0   \n",
              "\n",
              "   TipoDeContrato_DoisAnos  TipoDeContrato_Mensalmente  TipoDeContrato_UmAno  \\\n",
              "0                        0                           1                     0   \n",
              "1                        0                           0                     1   \n",
              "2                        0                           1                     0   \n",
              "3                        0                           0                     1   \n",
              "4                        0                           1                     0   \n",
              "\n",
              "   FormaDePagamento_CartaoDeCredito  FormaDePagamento_ChequeDigital  \\\n",
              "0                                 0                               1   \n",
              "1                                 0                               0   \n",
              "2                                 0                               0   \n",
              "3                                 0                               0   \n",
              "4                                 0                               1   \n",
              "\n",
              "   FormaDePagamento_ChequePapel  FormaDePagamento_DebitoEmConta  \n",
              "0                             0                               0  \n",
              "1                             1                               0  \n",
              "2                             1                               0  \n",
              "3                             0                               1  \n",
              "4                             0                               0  "
            ],
            "text/html": [
              "\n",
              "  <div id=\"df-056a8533-dcb6-4587-88ac-46e01bf5decb\">\n",
              "    <div class=\"colab-df-container\">\n",
              "      <div>\n",
              "<style scoped>\n",
              "    .dataframe tbody tr th:only-of-type {\n",
              "        vertical-align: middle;\n",
              "    }\n",
              "\n",
              "    .dataframe tbody tr th {\n",
              "        vertical-align: top;\n",
              "    }\n",
              "\n",
              "    .dataframe thead th {\n",
              "        text-align: right;\n",
              "    }\n",
              "</style>\n",
              "<table border=\"1\" class=\"dataframe\">\n",
              "  <thead>\n",
              "    <tr style=\"text-align: right;\">\n",
              "      <th></th>\n",
              "      <th>Conjuge</th>\n",
              "      <th>Dependentes</th>\n",
              "      <th>TelefoneFixo</th>\n",
              "      <th>PagamentoOnline</th>\n",
              "      <th>Churn</th>\n",
              "      <th>Maior65Anos</th>\n",
              "      <th>MesesDeContrato</th>\n",
              "      <th>ContaMensal</th>\n",
              "      <th>VariasLinhasTelefonicas_Nao</th>\n",
              "      <th>VariasLinhasTelefonicas_SemServicoTelefonico</th>\n",
              "      <th>VariasLinhasTelefonicas_Sim</th>\n",
              "      <th>ServicoDeInternet_DSL</th>\n",
              "      <th>ServicoDeInternet_FibraOptica</th>\n",
              "      <th>ServicoDeInternet_Nao</th>\n",
              "      <th>SegurancaOnline_Nao</th>\n",
              "      <th>SegurancaOnline_SemServicoDeInternet</th>\n",
              "      <th>SegurancaOnline_Sim</th>\n",
              "      <th>BackupOnline_Nao</th>\n",
              "      <th>BackupOnline_SemServicoDeInternet</th>\n",
              "      <th>BackupOnline_Sim</th>\n",
              "      <th>SeguroNoDispositivo_Nao</th>\n",
              "      <th>SeguroNoDispositivo_SemServicoDeInternet</th>\n",
              "      <th>SeguroNoDispositivo_Sim</th>\n",
              "      <th>SuporteTecnico_Nao</th>\n",
              "      <th>SuporteTecnico_SemServicoDeInternet</th>\n",
              "      <th>SuporteTecnico_Sim</th>\n",
              "      <th>TVaCabo_Nao</th>\n",
              "      <th>TVaCabo_SemServicoDeInternet</th>\n",
              "      <th>TVaCabo_Sim</th>\n",
              "      <th>StreamingDeFilmes_Nao</th>\n",
              "      <th>StreamingDeFilmes_SemServicoDeInternet</th>\n",
              "      <th>StreamingDeFilmes_Sim</th>\n",
              "      <th>TipoDeContrato_DoisAnos</th>\n",
              "      <th>TipoDeContrato_Mensalmente</th>\n",
              "      <th>TipoDeContrato_UmAno</th>\n",
              "      <th>FormaDePagamento_CartaoDeCredito</th>\n",
              "      <th>FormaDePagamento_ChequeDigital</th>\n",
              "      <th>FormaDePagamento_ChequePapel</th>\n",
              "      <th>FormaDePagamento_DebitoEmConta</th>\n",
              "    </tr>\n",
              "  </thead>\n",
              "  <tbody>\n",
              "    <tr>\n",
              "      <th>0</th>\n",
              "      <td>1</td>\n",
              "      <td>0</td>\n",
              "      <td>0</td>\n",
              "      <td>1</td>\n",
              "      <td>0</td>\n",
              "      <td>0</td>\n",
              "      <td>1</td>\n",
              "      <td>29.85</td>\n",
              "      <td>0</td>\n",
              "      <td>1</td>\n",
              "      <td>0</td>\n",
              "      <td>1</td>\n",
              "      <td>0</td>\n",
              "      <td>0</td>\n",
              "      <td>1</td>\n",
              "      <td>0</td>\n",
              "      <td>0</td>\n",
              "      <td>0</td>\n",
              "      <td>0</td>\n",
              "      <td>1</td>\n",
              "      <td>1</td>\n",
              "      <td>0</td>\n",
              "      <td>0</td>\n",
              "      <td>1</td>\n",
              "      <td>0</td>\n",
              "      <td>0</td>\n",
              "      <td>1</td>\n",
              "      <td>0</td>\n",
              "      <td>0</td>\n",
              "      <td>1</td>\n",
              "      <td>0</td>\n",
              "      <td>0</td>\n",
              "      <td>0</td>\n",
              "      <td>1</td>\n",
              "      <td>0</td>\n",
              "      <td>0</td>\n",
              "      <td>1</td>\n",
              "      <td>0</td>\n",
              "      <td>0</td>\n",
              "    </tr>\n",
              "    <tr>\n",
              "      <th>1</th>\n",
              "      <td>0</td>\n",
              "      <td>0</td>\n",
              "      <td>1</td>\n",
              "      <td>0</td>\n",
              "      <td>0</td>\n",
              "      <td>0</td>\n",
              "      <td>34</td>\n",
              "      <td>56.95</td>\n",
              "      <td>1</td>\n",
              "      <td>0</td>\n",
              "      <td>0</td>\n",
              "      <td>1</td>\n",
              "      <td>0</td>\n",
              "      <td>0</td>\n",
              "      <td>0</td>\n",
              "      <td>0</td>\n",
              "      <td>1</td>\n",
              "      <td>1</td>\n",
              "      <td>0</td>\n",
              "      <td>0</td>\n",
              "      <td>0</td>\n",
              "      <td>0</td>\n",
              "      <td>1</td>\n",
              "      <td>1</td>\n",
              "      <td>0</td>\n",
              "      <td>0</td>\n",
              "      <td>1</td>\n",
              "      <td>0</td>\n",
              "      <td>0</td>\n",
              "      <td>1</td>\n",
              "      <td>0</td>\n",
              "      <td>0</td>\n",
              "      <td>0</td>\n",
              "      <td>0</td>\n",
              "      <td>1</td>\n",
              "      <td>0</td>\n",
              "      <td>0</td>\n",
              "      <td>1</td>\n",
              "      <td>0</td>\n",
              "    </tr>\n",
              "    <tr>\n",
              "      <th>2</th>\n",
              "      <td>0</td>\n",
              "      <td>0</td>\n",
              "      <td>1</td>\n",
              "      <td>1</td>\n",
              "      <td>1</td>\n",
              "      <td>0</td>\n",
              "      <td>2</td>\n",
              "      <td>53.85</td>\n",
              "      <td>1</td>\n",
              "      <td>0</td>\n",
              "      <td>0</td>\n",
              "      <td>1</td>\n",
              "      <td>0</td>\n",
              "      <td>0</td>\n",
              "      <td>0</td>\n",
              "      <td>0</td>\n",
              "      <td>1</td>\n",
              "      <td>0</td>\n",
              "      <td>0</td>\n",
              "      <td>1</td>\n",
              "      <td>1</td>\n",
              "      <td>0</td>\n",
              "      <td>0</td>\n",
              "      <td>1</td>\n",
              "      <td>0</td>\n",
              "      <td>0</td>\n",
              "      <td>1</td>\n",
              "      <td>0</td>\n",
              "      <td>0</td>\n",
              "      <td>1</td>\n",
              "      <td>0</td>\n",
              "      <td>0</td>\n",
              "      <td>0</td>\n",
              "      <td>1</td>\n",
              "      <td>0</td>\n",
              "      <td>0</td>\n",
              "      <td>0</td>\n",
              "      <td>1</td>\n",
              "      <td>0</td>\n",
              "    </tr>\n",
              "    <tr>\n",
              "      <th>3</th>\n",
              "      <td>0</td>\n",
              "      <td>0</td>\n",
              "      <td>0</td>\n",
              "      <td>0</td>\n",
              "      <td>0</td>\n",
              "      <td>0</td>\n",
              "      <td>45</td>\n",
              "      <td>42.30</td>\n",
              "      <td>0</td>\n",
              "      <td>1</td>\n",
              "      <td>0</td>\n",
              "      <td>1</td>\n",
              "      <td>0</td>\n",
              "      <td>0</td>\n",
              "      <td>0</td>\n",
              "      <td>0</td>\n",
              "      <td>1</td>\n",
              "      <td>1</td>\n",
              "      <td>0</td>\n",
              "      <td>0</td>\n",
              "      <td>0</td>\n",
              "      <td>0</td>\n",
              "      <td>1</td>\n",
              "      <td>0</td>\n",
              "      <td>0</td>\n",
              "      <td>1</td>\n",
              "      <td>1</td>\n",
              "      <td>0</td>\n",
              "      <td>0</td>\n",
              "      <td>1</td>\n",
              "      <td>0</td>\n",
              "      <td>0</td>\n",
              "      <td>0</td>\n",
              "      <td>0</td>\n",
              "      <td>1</td>\n",
              "      <td>0</td>\n",
              "      <td>0</td>\n",
              "      <td>0</td>\n",
              "      <td>1</td>\n",
              "    </tr>\n",
              "    <tr>\n",
              "      <th>4</th>\n",
              "      <td>0</td>\n",
              "      <td>0</td>\n",
              "      <td>1</td>\n",
              "      <td>1</td>\n",
              "      <td>1</td>\n",
              "      <td>0</td>\n",
              "      <td>2</td>\n",
              "      <td>70.70</td>\n",
              "      <td>1</td>\n",
              "      <td>0</td>\n",
              "      <td>0</td>\n",
              "      <td>0</td>\n",
              "      <td>1</td>\n",
              "      <td>0</td>\n",
              "      <td>1</td>\n",
              "      <td>0</td>\n",
              "      <td>0</td>\n",
              "      <td>1</td>\n",
              "      <td>0</td>\n",
              "      <td>0</td>\n",
              "      <td>1</td>\n",
              "      <td>0</td>\n",
              "      <td>0</td>\n",
              "      <td>1</td>\n",
              "      <td>0</td>\n",
              "      <td>0</td>\n",
              "      <td>1</td>\n",
              "      <td>0</td>\n",
              "      <td>0</td>\n",
              "      <td>1</td>\n",
              "      <td>0</td>\n",
              "      <td>0</td>\n",
              "      <td>0</td>\n",
              "      <td>1</td>\n",
              "      <td>0</td>\n",
              "      <td>0</td>\n",
              "      <td>1</td>\n",
              "      <td>0</td>\n",
              "      <td>0</td>\n",
              "    </tr>\n",
              "  </tbody>\n",
              "</table>\n",
              "</div>\n",
              "      <button class=\"colab-df-convert\" onclick=\"convertToInteractive('df-056a8533-dcb6-4587-88ac-46e01bf5decb')\"\n",
              "              title=\"Convert this dataframe to an interactive table.\"\n",
              "              style=\"display:none;\">\n",
              "        \n",
              "  <svg xmlns=\"http://www.w3.org/2000/svg\" height=\"24px\"viewBox=\"0 0 24 24\"\n",
              "       width=\"24px\">\n",
              "    <path d=\"M0 0h24v24H0V0z\" fill=\"none\"/>\n",
              "    <path d=\"M18.56 5.44l.94 2.06.94-2.06 2.06-.94-2.06-.94-.94-2.06-.94 2.06-2.06.94zm-11 1L8.5 8.5l.94-2.06 2.06-.94-2.06-.94L8.5 2.5l-.94 2.06-2.06.94zm10 10l.94 2.06.94-2.06 2.06-.94-2.06-.94-.94-2.06-.94 2.06-2.06.94z\"/><path d=\"M17.41 7.96l-1.37-1.37c-.4-.4-.92-.59-1.43-.59-.52 0-1.04.2-1.43.59L10.3 9.45l-7.72 7.72c-.78.78-.78 2.05 0 2.83L4 21.41c.39.39.9.59 1.41.59.51 0 1.02-.2 1.41-.59l7.78-7.78 2.81-2.81c.8-.78.8-2.07 0-2.86zM5.41 20L4 18.59l7.72-7.72 1.47 1.35L5.41 20z\"/>\n",
              "  </svg>\n",
              "      </button>\n",
              "      \n",
              "  <style>\n",
              "    .colab-df-container {\n",
              "      display:flex;\n",
              "      flex-wrap:wrap;\n",
              "      gap: 12px;\n",
              "    }\n",
              "\n",
              "    .colab-df-convert {\n",
              "      background-color: #E8F0FE;\n",
              "      border: none;\n",
              "      border-radius: 50%;\n",
              "      cursor: pointer;\n",
              "      display: none;\n",
              "      fill: #1967D2;\n",
              "      height: 32px;\n",
              "      padding: 0 0 0 0;\n",
              "      width: 32px;\n",
              "    }\n",
              "\n",
              "    .colab-df-convert:hover {\n",
              "      background-color: #E2EBFA;\n",
              "      box-shadow: 0px 1px 2px rgba(60, 64, 67, 0.3), 0px 1px 3px 1px rgba(60, 64, 67, 0.15);\n",
              "      fill: #174EA6;\n",
              "    }\n",
              "\n",
              "    [theme=dark] .colab-df-convert {\n",
              "      background-color: #3B4455;\n",
              "      fill: #D2E3FC;\n",
              "    }\n",
              "\n",
              "    [theme=dark] .colab-df-convert:hover {\n",
              "      background-color: #434B5C;\n",
              "      box-shadow: 0px 1px 3px 1px rgba(0, 0, 0, 0.15);\n",
              "      filter: drop-shadow(0px 1px 2px rgba(0, 0, 0, 0.3));\n",
              "      fill: #FFFFFF;\n",
              "    }\n",
              "  </style>\n",
              "\n",
              "      <script>\n",
              "        const buttonEl =\n",
              "          document.querySelector('#df-056a8533-dcb6-4587-88ac-46e01bf5decb button.colab-df-convert');\n",
              "        buttonEl.style.display =\n",
              "          google.colab.kernel.accessAllowed ? 'block' : 'none';\n",
              "\n",
              "        async function convertToInteractive(key) {\n",
              "          const element = document.querySelector('#df-056a8533-dcb6-4587-88ac-46e01bf5decb');\n",
              "          const dataTable =\n",
              "            await google.colab.kernel.invokeFunction('convertToInteractive',\n",
              "                                                     [key], {});\n",
              "          if (!dataTable) return;\n",
              "\n",
              "          const docLinkHtml = 'Like what you see? Visit the ' +\n",
              "            '<a target=\"_blank\" href=https://colab.research.google.com/notebooks/data_table.ipynb>data table notebook</a>'\n",
              "            + ' to learn more about interactive tables.';\n",
              "          element.innerHTML = '';\n",
              "          dataTable['output_type'] = 'display_data';\n",
              "          await google.colab.output.renderOutput(dataTable, element);\n",
              "          const docLink = document.createElement('div');\n",
              "          docLink.innerHTML = docLinkHtml;\n",
              "          element.appendChild(docLink);\n",
              "        }\n",
              "      </script>\n",
              "    </div>\n",
              "  </div>\n",
              "  "
            ]
          },
          "metadata": {},
          "execution_count": 11
        }
      ]
    },
    {
      "cell_type": "markdown",
      "source": [
        "y = f(x)"
      ],
      "metadata": {
        "id": "dYxqyX9xwf1T"
      }
    },
    {
      "cell_type": "markdown",
      "source": [
        "## KNN por trás dos panos"
      ],
      "metadata": {
        "id": "2sdnOycy-iEQ"
      }
    },
    {
      "cell_type": "code",
      "source": [
        "Xmaria = [[0,0,1,1,0,0,39.90,1,0,0,0,1,0,0,0,0,1,1,1,0,0,1,1,0,0,0,0,1,0,0,1,0,0,0,1, 0, 1, 1]]\n"
      ],
      "metadata": {
        "id": "FpOYtwfNyxFS"
      },
      "execution_count": 12,
      "outputs": []
    },
    {
      "cell_type": "code",
      "source": [
        "Xmaria"
      ],
      "metadata": {
        "colab": {
          "base_uri": "https://localhost:8080/"
        },
        "id": "G5GkkKnN-ndY",
        "outputId": "c9b50197-58ec-45da-97f5-b3f93edee178"
      },
      "execution_count": 13,
      "outputs": [
        {
          "output_type": "execute_result",
          "data": {
            "text/plain": [
              "[[0,\n",
              "  0,\n",
              "  1,\n",
              "  1,\n",
              "  0,\n",
              "  0,\n",
              "  39.9,\n",
              "  1,\n",
              "  0,\n",
              "  0,\n",
              "  0,\n",
              "  1,\n",
              "  0,\n",
              "  0,\n",
              "  0,\n",
              "  0,\n",
              "  1,\n",
              "  1,\n",
              "  1,\n",
              "  0,\n",
              "  0,\n",
              "  1,\n",
              "  1,\n",
              "  0,\n",
              "  0,\n",
              "  0,\n",
              "  0,\n",
              "  1,\n",
              "  0,\n",
              "  0,\n",
              "  1,\n",
              "  0,\n",
              "  0,\n",
              "  0,\n",
              "  1,\n",
              "  0,\n",
              "  1,\n",
              "  1]]"
            ]
          },
          "metadata": {},
          "execution_count": 13
        }
      ]
    },
    {
      "cell_type": "code",
      "source": [
        "#ymaria = "
      ],
      "metadata": {
        "id": "yOHpUwfRy5kL"
      },
      "execution_count": 14,
      "outputs": []
    },
    {
      "cell_type": "code",
      "source": [
        "#biblioteca para padronização de dados\n",
        "from sklearn.preprocessing import StandardScaler"
      ],
      "metadata": {
        "id": "O7kTP1YY_xJi"
      },
      "execution_count": 15,
      "outputs": []
    },
    {
      "cell_type": "code",
      "source": [
        "#Divisão em inputs e outputs\n",
        "X = dados_final.drop('Churn', axis=1)\n",
        "Y = dados_final['Churn']"
      ],
      "metadata": {
        "id": "gCOTNF-p-xe3"
      },
      "execution_count": 16,
      "outputs": []
    },
    {
      "cell_type": "code",
      "source": [
        "norm = StandardScaler()\n",
        "\n",
        "X_normalizado = norm.fit_transform(X)\n",
        "X_normalizado"
      ],
      "metadata": {
        "colab": {
          "base_uri": "https://localhost:8080/"
        },
        "id": "NI8lRSFs_9mS",
        "outputId": "c32ad0ba-a821-4073-c193-e14932e26524"
      },
      "execution_count": 17,
      "outputs": [
        {
          "output_type": "execute_result",
          "data": {
            "text/plain": [
              "array([[ 1.03453023, -0.65401193, -3.05401039, ...,  1.40641839,\n",
              "        -0.54480692, -0.5298852 ],\n",
              "       [-0.96662231, -0.65401193,  0.32743831, ..., -0.71102597,\n",
              "         1.83551265, -0.5298852 ],\n",
              "       [-0.96662231, -0.65401193,  0.32743831, ..., -0.71102597,\n",
              "         1.83551265, -0.5298852 ],\n",
              "       ...,\n",
              "       [ 1.03453023,  1.5290241 , -3.05401039, ...,  1.40641839,\n",
              "        -0.54480692, -0.5298852 ],\n",
              "       [ 1.03453023, -0.65401193,  0.32743831, ..., -0.71102597,\n",
              "         1.83551265, -0.5298852 ],\n",
              "       [-0.96662231, -0.65401193,  0.32743831, ..., -0.71102597,\n",
              "        -0.54480692,  1.88720123]])"
            ]
          },
          "metadata": {},
          "execution_count": 17
        }
      ]
    },
    {
      "cell_type": "code",
      "source": [
        "X_normalizado[0]"
      ],
      "metadata": {
        "colab": {
          "base_uri": "https://localhost:8080/"
        },
        "id": "n3LoZlcRLjfW",
        "outputId": "5c5bbdef-ea4b-4a21-ff74-d0a3e43cce69"
      },
      "execution_count": 18,
      "outputs": [
        {
          "output_type": "execute_result",
          "data": {
            "text/plain": [
              "array([ 1.03453023, -0.65401193, -3.05401039,  0.8297975 , -0.43991649,\n",
              "       -1.27744458, -1.16032292, -0.96332984,  3.05401039, -0.85417615,\n",
              "        1.38171215, -0.88565976, -0.52592737,  1.00669571, -0.52592737,\n",
              "       -0.63393298, -0.88361972, -0.52592737,  1.3782406 ,  1.12942721,\n",
              "       -0.52592737, -0.72396752,  1.0138687 , -0.52592737, -0.63943864,\n",
              "        1.2273572 , -0.52592737, -0.79013171,  1.23648892, -0.52592737,\n",
              "       -0.79607014, -0.56297505,  0.90418382, -0.51424938, -0.52504733,\n",
              "        1.40641839, -0.54480692, -0.5298852 ])"
            ]
          },
          "metadata": {},
          "execution_count": 18
        }
      ]
    },
    {
      "cell_type": "code",
      "source": [
        "Xmaria_normalizado = norm.transform(pd.DataFrame(Xmaria, columns = X.columns))\n",
        "Xmaria_normalizado"
      ],
      "metadata": {
        "colab": {
          "base_uri": "https://localhost:8080/"
        },
        "id": "-2J1hlUTL7DV",
        "outputId": "f748394a-1157-4d7b-806e-fa01e7bece70"
      },
      "execution_count": 19,
      "outputs": [
        {
          "output_type": "execute_result",
          "data": {
            "text/plain": [
              "array([[-0.96662231, -0.65401193,  0.32743831,  0.8297975 , -0.43991649,\n",
              "        -1.31816495, -0.82630172,  1.03806605, -0.32743831, -0.85417615,\n",
              "        -0.72373975,  1.12910177, -0.52592737, -0.99334883, -0.52592737,\n",
              "        -0.63393298,  1.13170855,  1.90140322,  1.3782406 , -0.88540456,\n",
              "        -0.52592737,  1.38127743,  1.0138687 , -0.52592737, -0.63943864,\n",
              "        -0.81475874, -0.52592737,  1.26561178, -0.80874158, -0.52592737,\n",
              "         1.25617071, -0.56297505, -1.1059698 , -0.51424938,  1.90459021,\n",
              "        -0.71102597,  1.83551265,  1.88720123]])"
            ]
          },
          "metadata": {},
          "execution_count": 19
        }
      ]
    },
    {
      "cell_type": "markdown",
      "source": [
        "Distânca Euclidiana"
      ],
      "metadata": {
        "id": "gBjFwVbOd1JL"
      }
    },
    {
      "cell_type": "code",
      "source": [
        "import numpy as np"
      ],
      "metadata": {
        "id": "enmJiHisd34G"
      },
      "execution_count": 20,
      "outputs": []
    },
    {
      "cell_type": "code",
      "source": [
        "a = Xmaria_normalizado"
      ],
      "metadata": {
        "id": "aR4JGElFeq6z"
      },
      "execution_count": 21,
      "outputs": []
    },
    {
      "cell_type": "code",
      "source": [
        "b = X_normalizado[0]"
      ],
      "metadata": {
        "id": "MLplG_EZevVb"
      },
      "execution_count": 22,
      "outputs": []
    },
    {
      "cell_type": "code",
      "source": [
        "# 1º começamos subtraindo\n",
        "a - b"
      ],
      "metadata": {
        "colab": {
          "base_uri": "https://localhost:8080/"
        },
        "id": "WRDNscpWe60N",
        "outputId": "91a97301-8f5a-48ee-815a-df9f356977e4"
      },
      "execution_count": 23,
      "outputs": [
        {
          "output_type": "execute_result",
          "data": {
            "text/plain": [
              "array([[-2.00115254,  0.        ,  3.3814487 ,  0.        ,  0.        ,\n",
              "        -0.04072036,  0.3340212 ,  2.00139589, -3.3814487 ,  0.        ,\n",
              "        -2.10545189,  2.01476153,  0.        , -2.00004453,  0.        ,\n",
              "         0.        ,  2.01532828,  2.42733059,  0.        , -2.01483177,\n",
              "         0.        ,  2.10524495,  0.        ,  0.        ,  0.        ,\n",
              "        -2.04211593,  0.        ,  2.05574349, -2.0452305 ,  0.        ,\n",
              "         2.05224086,  0.        , -2.01015362,  0.        ,  2.42963754,\n",
              "        -2.11744436,  2.38031958,  2.41708643]])"
            ]
          },
          "metadata": {},
          "execution_count": 23
        }
      ]
    },
    {
      "cell_type": "code",
      "source": [
        "#2º depois realizamos a exponenciação\n",
        "np.square(a-b)"
      ],
      "metadata": {
        "colab": {
          "base_uri": "https://localhost:8080/"
        },
        "id": "vto4FXLMfG68",
        "outputId": "68107c73-68e9-41f9-a475-c8f34580f495"
      },
      "execution_count": 24,
      "outputs": [
        {
          "output_type": "execute_result",
          "data": {
            "text/plain": [
              "array([[4.00461149e+00, 0.00000000e+00, 1.14341953e+01, 0.00000000e+00,\n",
              "        0.00000000e+00, 1.65814802e-03, 1.11570160e-01, 4.00558550e+00,\n",
              "        1.14341953e+01, 0.00000000e+00, 4.43292768e+00, 4.05926401e+00,\n",
              "        0.00000000e+00, 4.00017814e+00, 0.00000000e+00, 0.00000000e+00,\n",
              "        4.06154807e+00, 5.89193381e+00, 0.00000000e+00, 4.05954705e+00,\n",
              "        0.00000000e+00, 4.43205631e+00, 0.00000000e+00, 0.00000000e+00,\n",
              "        0.00000000e+00, 4.17023749e+00, 0.00000000e+00, 4.22608130e+00,\n",
              "        4.18296779e+00, 0.00000000e+00, 4.21169253e+00, 0.00000000e+00,\n",
              "        4.04071758e+00, 0.00000000e+00, 5.90313856e+00, 4.48357062e+00,\n",
              "        5.66592128e+00, 5.84230682e+00]])"
            ]
          },
          "metadata": {},
          "execution_count": 24
        }
      ]
    },
    {
      "cell_type": "code",
      "source": [
        "#3º a soma\n",
        "np.sum(np.square(a-b))"
      ],
      "metadata": {
        "colab": {
          "base_uri": "https://localhost:8080/"
        },
        "id": "uKiwEjDvhaRf",
        "outputId": "8b986e44-0b5d-4137-e97f-8ce95c004af7"
      },
      "execution_count": 25,
      "outputs": [
        {
          "output_type": "execute_result",
          "data": {
            "text/plain": [
              "104.65590496901619"
            ]
          },
          "metadata": {},
          "execution_count": 25
        }
      ]
    },
    {
      "cell_type": "code",
      "source": [
        "#4º então tiramos a raiz e temos nossa distância\n",
        "np.sqrt(104.65590496901619)"
      ],
      "metadata": {
        "colab": {
          "base_uri": "https://localhost:8080/"
        },
        "id": "Ec3q_LMShwcG",
        "outputId": "a1087abe-6501-4381-e2cb-fff23ce3624c"
      },
      "execution_count": 26,
      "outputs": [
        {
          "output_type": "execute_result",
          "data": {
            "text/plain": [
              "10.230146869376616"
            ]
          },
          "metadata": {},
          "execution_count": 26
        }
      ]
    },
    {
      "cell_type": "markdown",
      "source": [
        "## Implementando o modelo"
      ],
      "metadata": {
        "id": "g75ToZkdkDs_"
      }
    },
    {
      "cell_type": "code",
      "source": [
        "#biblioteca para divisão de dados\n",
        "from sklearn.model_selection import train_test_split"
      ],
      "metadata": {
        "id": "TYV2SMJQkGNX"
      },
      "execution_count": 27,
      "outputs": []
    },
    {
      "cell_type": "code",
      "source": [
        "X_treino, X_teste, y_treino, y_teste = train_test_split(X_normalizado, Y, test_size=0.3, random_state=123)"
      ],
      "metadata": {
        "id": "iAPcAzyLkQL4"
      },
      "execution_count": 28,
      "outputs": []
    },
    {
      "cell_type": "markdown",
      "source": [
        "##Treinamento e teste"
      ],
      "metadata": {
        "id": "bVd9Prz2kwyf"
      }
    },
    {
      "cell_type": "code",
      "source": [
        "#biblioteca para criarmos o modelo de machinlearninf \n",
        "from sklearn.neighbors import KNeighborsClassifier"
      ],
      "metadata": {
        "id": "47bU7CvEkyOJ"
      },
      "execution_count": 29,
      "outputs": []
    },
    {
      "cell_type": "code",
      "source": [
        "#instanciar o modelo (criamos o modelo) - por padrao sao 5 vizinhos\n",
        "knn = KNeighborsClassifier(metric='euclidean')\n"
      ],
      "metadata": {
        "id": "2poY5RlTXtx3"
      },
      "execution_count": 30,
      "outputs": []
    },
    {
      "cell_type": "code",
      "source": [
        "#treinando o modelo com os dados do modelo\n",
        "knn.fit(X_treino, y_treino)"
      ],
      "metadata": {
        "colab": {
          "base_uri": "https://localhost:8080/"
        },
        "id": "IQD9g2lVbEBn",
        "outputId": "9244d444-0bde-4926-d46f-386642e3ab41"
      },
      "execution_count": 31,
      "outputs": [
        {
          "output_type": "execute_result",
          "data": {
            "text/plain": [
              "KNeighborsClassifier(metric='euclidean')"
            ]
          },
          "metadata": {},
          "execution_count": 31
        }
      ]
    },
    {
      "cell_type": "code",
      "source": [
        "#testando o modelo com os dados de teste\n",
        "predito_knn = knn.predict(X_teste)"
      ],
      "metadata": {
        "id": "FUTaSoUxnp0Y"
      },
      "execution_count": 32,
      "outputs": []
    },
    {
      "cell_type": "code",
      "source": [
        "predito_knn"
      ],
      "metadata": {
        "colab": {
          "base_uri": "https://localhost:8080/"
        },
        "id": "cGVR8wjLny8v",
        "outputId": "05f8fceb-ccff-4071-8d00-567cea4bcf5b"
      },
      "execution_count": 33,
      "outputs": [
        {
          "output_type": "execute_result",
          "data": {
            "text/plain": [
              "array([1, 0, 0, ..., 0, 0, 0])"
            ]
          },
          "metadata": {},
          "execution_count": 33
        }
      ]
    },
    {
      "cell_type": "code",
      "source": [
        "X_treino"
      ],
      "metadata": {
        "colab": {
          "base_uri": "https://localhost:8080/"
        },
        "id": "-Bp5-bB_F0JO",
        "outputId": "41b6cfe8-685c-4dee-ce4e-f68dd75ad774"
      },
      "execution_count": 34,
      "outputs": [
        {
          "output_type": "execute_result",
          "data": {
            "text/plain": [
              "array([[-0.96662231, -0.65401193, -3.05401039, ...,  1.40641839,\n",
              "        -0.54480692, -0.5298852 ],\n",
              "       [-0.96662231,  1.5290241 ,  0.32743831, ...,  1.40641839,\n",
              "        -0.54480692, -0.5298852 ],\n",
              "       [-0.96662231, -0.65401193,  0.32743831, ..., -0.71102597,\n",
              "         1.83551265, -0.5298852 ],\n",
              "       ...,\n",
              "       [ 1.03453023,  1.5290241 ,  0.32743831, ...,  1.40641839,\n",
              "        -0.54480692, -0.5298852 ],\n",
              "       [ 1.03453023,  1.5290241 , -3.05401039, ..., -0.71102597,\n",
              "         1.83551265, -0.5298852 ],\n",
              "       [-0.96662231, -0.65401193,  0.32743831, ...,  1.40641839,\n",
              "        -0.54480692, -0.5298852 ]])"
            ]
          },
          "metadata": {},
          "execution_count": 34
        }
      ]
    },
    {
      "cell_type": "code",
      "source": [
        "y_treino"
      ],
      "metadata": {
        "colab": {
          "base_uri": "https://localhost:8080/"
        },
        "id": "vhRg0YHVF2_Q",
        "outputId": "6621bf1e-eaea-4a7f-c818-055940674f56"
      },
      "execution_count": 35,
      "outputs": [
        {
          "output_type": "execute_result",
          "data": {
            "text/plain": [
              "1479    0\n",
              "2377    0\n",
              "6613    0\n",
              "6468    0\n",
              "2668    1\n",
              "       ..\n",
              "5218    0\n",
              "4060    0\n",
              "1346    1\n",
              "3454    0\n",
              "3582    0\n",
              "Name: Churn, Length: 4930, dtype: int64"
            ]
          },
          "metadata": {},
          "execution_count": 35
        }
      ]
    },
    {
      "cell_type": "code",
      "source": [
        "#escolho utilizar mediana, pq é o valor central dos nossos dados ordendados\n",
        "np.median(X_treino)"
      ],
      "metadata": {
        "colab": {
          "base_uri": "https://localhost:8080/"
        },
        "id": "T0bkYweTGAH5",
        "outputId": "f34d83d7-def9-4327-9a0e-5fc7f0e5c879"
      },
      "execution_count": 36,
      "outputs": [
        {
          "output_type": "execute_result",
          "data": {
            "text/plain": [
              "-0.5259273725834717"
            ]
          },
          "metadata": {},
          "execution_count": 36
        }
      ]
    },
    {
      "cell_type": "code",
      "source": [
        "#biblioteca para criarmos o modelo de machine learning\n",
        "from sklearn.naive_bayes import BernoulliNB"
      ],
      "metadata": {
        "id": "zKkEU7r7GJdD"
      },
      "execution_count": 37,
      "outputs": []
    },
    {
      "cell_type": "code",
      "source": [
        "#criamo o modelo\n",
        "bnb = BernoulliNB(binarize=-0.52)"
      ],
      "metadata": {
        "id": "vhoynHpAIB3g"
      },
      "execution_count": 38,
      "outputs": []
    },
    {
      "cell_type": "code",
      "source": [
        "bnb.fit(X_treino, y_treino)"
      ],
      "metadata": {
        "colab": {
          "base_uri": "https://localhost:8080/"
        },
        "id": "WF6wWjNnIt20",
        "outputId": "21f722ab-6011-4ed4-c008-df874fbde2da"
      },
      "execution_count": 39,
      "outputs": [
        {
          "output_type": "execute_result",
          "data": {
            "text/plain": [
              "BernoulliNB(binarize=-0.52)"
            ]
          },
          "metadata": {},
          "execution_count": 39
        }
      ]
    },
    {
      "cell_type": "code",
      "source": [
        "predito_BNb = bnb.predict(X_teste)"
      ],
      "metadata": {
        "id": "qekW3BztI9Un"
      },
      "execution_count": 40,
      "outputs": []
    },
    {
      "cell_type": "code",
      "source": [
        "predito_BNb"
      ],
      "metadata": {
        "colab": {
          "base_uri": "https://localhost:8080/"
        },
        "id": "DcEFe5Y3JDQ0",
        "outputId": "05079772-f90f-423e-ed8f-5dfff87836d7"
      },
      "execution_count": 41,
      "outputs": [
        {
          "output_type": "execute_result",
          "data": {
            "text/plain": [
              "array([1, 0, 0, ..., 0, 1, 0])"
            ]
          },
          "metadata": {},
          "execution_count": 41
        }
      ]
    },
    {
      "cell_type": "code",
      "source": [],
      "metadata": {
        "id": "Oc5x_wzEJYwZ"
      },
      "execution_count": 41,
      "outputs": []
    },
    {
      "cell_type": "markdown",
      "source": [
        "##Implementando o modelo"
      ],
      "metadata": {
        "id": "60qd4nCILqzB"
      }
    },
    {
      "cell_type": "code",
      "source": [
        "#biblioteca para criarmo o modelo de machine learning\n",
        "from sklearn.tree import DecisionTreeClassifier"
      ],
      "metadata": {
        "id": "sZxtqMYbL47C"
      },
      "execution_count": 43,
      "outputs": []
    },
    {
      "cell_type": "code",
      "source": [
        "#instanciando o modelo\n",
        "dtc = DecisionTreeClassifier(criterion='entropy', random_state=42)"
      ],
      "metadata": {
        "id": "r0jwhe1rL8pS"
      },
      "execution_count": 44,
      "outputs": []
    },
    {
      "cell_type": "code",
      "source": [
        "#treinar o modelo\n",
        "dtc.fit(X_treino, y_treino)"
      ],
      "metadata": {
        "colab": {
          "base_uri": "https://localhost:8080/"
        },
        "id": "sB9aRoQzMI8o",
        "outputId": "31163d21-5478-4be3-f8eb-ecfac6a21a3d"
      },
      "execution_count": 45,
      "outputs": [
        {
          "output_type": "execute_result",
          "data": {
            "text/plain": [
              "DecisionTreeClassifier(criterion='entropy', random_state=42)"
            ]
          },
          "metadata": {},
          "execution_count": 45
        }
      ]
    },
    {
      "cell_type": "code",
      "source": [
        "#verificar a importancia de cade atributo\n",
        "dtc.feature_importances_"
      ],
      "metadata": {
        "colab": {
          "base_uri": "https://localhost:8080/"
        },
        "id": "FSlcIhQuMJCb",
        "outputId": "50033c68-4fd4-4a2e-d088-481d2778d982"
      },
      "execution_count": 46,
      "outputs": [
        {
          "output_type": "execute_result",
          "data": {
            "text/plain": [
              "array([0.03168742, 0.01862901, 0.00064085, 0.02675693, 0.0208788 ,\n",
              "       0.2056003 , 0.29546501, 0.0061786 , 0.00273035, 0.00747536,\n",
              "       0.        , 0.04908356, 0.        , 0.01609395, 0.        ,\n",
              "       0.00722833, 0.01220706, 0.        , 0.01248286, 0.01138295,\n",
              "       0.0006673 , 0.0095669 , 0.01841631, 0.        , 0.00650511,\n",
              "       0.00385849, 0.        , 0.00666929, 0.00517146, 0.        ,\n",
              "       0.00665371, 0.00473251, 0.15803541, 0.00348686, 0.01414378,\n",
              "       0.01601964, 0.01064163, 0.01091026])"
            ]
          },
          "metadata": {},
          "execution_count": 46
        }
      ]
    },
    {
      "cell_type": "code",
      "source": [
        "predito_ArvoreDecisao = dtc.predict(X_teste)"
      ],
      "metadata": {
        "id": "7b9WHiSNMVUj"
      },
      "execution_count": 47,
      "outputs": []
    },
    {
      "cell_type": "code",
      "source": [
        "predito_ArvoreDecisao"
      ],
      "metadata": {
        "colab": {
          "base_uri": "https://localhost:8080/"
        },
        "id": "N5u1naleMctb",
        "outputId": "813bda2a-d38c-4c98-b575-472d1e449028"
      },
      "execution_count": 48,
      "outputs": [
        {
          "output_type": "execute_result",
          "data": {
            "text/plain": [
              "array([1, 0, 0, ..., 1, 0, 0])"
            ]
          },
          "metadata": {},
          "execution_count": 48
        }
      ]
    },
    {
      "cell_type": "markdown",
      "source": [
        "## Validação do modelo"
      ],
      "metadata": {
        "id": "7htyLX3OQHtD"
      }
    },
    {
      "cell_type": "markdown",
      "source": [
        "### Matriz de confusão"
      ],
      "metadata": {
        "id": "pq6Nw2UDQJyU"
      }
    },
    {
      "cell_type": "code",
      "source": [
        "from sklearn.metrics import confusion_matrix"
      ],
      "metadata": {
        "id": "QAegOOjKQOlF"
      },
      "execution_count": 50,
      "outputs": []
    },
    {
      "cell_type": "code",
      "source": [
        "print(confusion_matrix(y_teste, predito_knn))"
      ],
      "metadata": {
        "colab": {
          "base_uri": "https://localhost:8080/"
        },
        "id": "HWbCenf8Qeq2",
        "outputId": "6ad74c62-a0b9-477d-e0e3-25fbdebae872"
      },
      "execution_count": 51,
      "outputs": [
        {
          "output_type": "stream",
          "name": "stdout",
          "text": [
            "[[1302  221]\n",
            " [ 317  273]]\n"
          ]
        }
      ]
    },
    {
      "cell_type": "code",
      "source": [
        "print(confusion_matrix(y_teste, predito_BNb))"
      ],
      "metadata": {
        "colab": {
          "base_uri": "https://localhost:8080/"
        },
        "id": "0GCePvMwQq7a",
        "outputId": "2a4ef3c8-3eca-4cc8-fc25-2ff473dba1d5"
      },
      "execution_count": 52,
      "outputs": [
        {
          "output_type": "stream",
          "name": "stdout",
          "text": [
            "[[1045  478]\n",
            " [ 117  473]]\n"
          ]
        }
      ]
    },
    {
      "cell_type": "code",
      "source": [
        "print(confusion_matrix(y_teste, predito_ArvoreDecisao))"
      ],
      "metadata": {
        "colab": {
          "base_uri": "https://localhost:8080/"
        },
        "id": "bu636mjQSIUv",
        "outputId": "065b5b05-a102-4bb0-8fe4-ed40c0d6d461"
      },
      "execution_count": 53,
      "outputs": [
        {
          "output_type": "stream",
          "name": "stdout",
          "text": [
            "[[1249  274]\n",
            " [ 290  300]]\n"
          ]
        }
      ]
    },
    {
      "cell_type": "markdown",
      "source": [
        "###Acurácia"
      ],
      "metadata": {
        "id": "yuFAnGAjTxze"
      }
    },
    {
      "cell_type": "code",
      "source": [
        "from sklearn.metrics import accuracy_score"
      ],
      "metadata": {
        "id": "nibnJN06T0OK"
      },
      "execution_count": 54,
      "outputs": []
    },
    {
      "cell_type": "code",
      "source": [
        "#modelo KNN\n",
        "print(accuracy_score(y_teste, predito_knn))"
      ],
      "metadata": {
        "colab": {
          "base_uri": "https://localhost:8080/"
        },
        "id": "qb5-9XYlT6e4",
        "outputId": "1a084dfd-e5da-424c-80e7-df1bff404cdd"
      },
      "execution_count": 55,
      "outputs": [
        {
          "output_type": "stream",
          "name": "stdout",
          "text": [
            "0.7453857075248462\n"
          ]
        }
      ]
    },
    {
      "cell_type": "code",
      "source": [
        "#modelo Bernoulli Naive Bayes\n",
        "print(accuracy_score(y_teste, predito_BNb))"
      ],
      "metadata": {
        "colab": {
          "base_uri": "https://localhost:8080/"
        },
        "id": "mjUSfGlwULNx",
        "outputId": "f7dcf898-f753-49a1-fd2b-fb603ddc377b"
      },
      "execution_count": 56,
      "outputs": [
        {
          "output_type": "stream",
          "name": "stdout",
          "text": [
            "0.718409843823947\n"
          ]
        }
      ]
    },
    {
      "cell_type": "code",
      "source": [
        "#modelo árvore de decisão\n",
        "print(accuracy_score(y_teste, predito_ArvoreDecisao))"
      ],
      "metadata": {
        "colab": {
          "base_uri": "https://localhost:8080/"
        },
        "id": "Hb0Dp6XFUS81",
        "outputId": "d2fa9d42-a805-4f03-ca6d-1111f194d56e"
      },
      "execution_count": 57,
      "outputs": [
        {
          "output_type": "stream",
          "name": "stdout",
          "text": [
            "0.7330809275911027\n"
          ]
        }
      ]
    },
    {
      "cell_type": "markdown",
      "source": [
        "### Precisão"
      ],
      "metadata": {
        "id": "NgkX3_JoU5Jm"
      }
    },
    {
      "cell_type": "code",
      "source": [
        "from sklearn.metrics import precision_score"
      ],
      "metadata": {
        "id": "1HQF0UpeU74J"
      },
      "execution_count": 58,
      "outputs": []
    },
    {
      "cell_type": "code",
      "source": [
        "#modelo KNN\n",
        "print(precision_score(y_teste, predito_knn))"
      ],
      "metadata": {
        "colab": {
          "base_uri": "https://localhost:8080/"
        },
        "id": "oKd2C-uLVCSV",
        "outputId": "92eeab5b-4570-48cb-9eae-a9e6c5506f0d"
      },
      "execution_count": 59,
      "outputs": [
        {
          "output_type": "stream",
          "name": "stdout",
          "text": [
            "0.5526315789473685\n"
          ]
        }
      ]
    },
    {
      "cell_type": "code",
      "source": [
        "#modelo Bernoulli Naive Bayes\n",
        "print(precision_score(y_teste, predito_BNb))"
      ],
      "metadata": {
        "colab": {
          "base_uri": "https://localhost:8080/"
        },
        "id": "aPkWPg5vVKLJ",
        "outputId": "65e707c7-450c-4865-ec68-90e22f69100f"
      },
      "execution_count": 60,
      "outputs": [
        {
          "output_type": "stream",
          "name": "stdout",
          "text": [
            "0.49737118822292326\n"
          ]
        }
      ]
    },
    {
      "cell_type": "code",
      "source": [
        "#modelo árvore de decisão\n",
        "print(precision_score(y_teste, predito_ArvoreDecisao))"
      ],
      "metadata": {
        "colab": {
          "base_uri": "https://localhost:8080/"
        },
        "id": "L_yY-crVVOtA",
        "outputId": "217fb231-849f-45b9-bd4f-a2e7f9052758"
      },
      "execution_count": 61,
      "outputs": [
        {
          "output_type": "stream",
          "name": "stdout",
          "text": [
            "0.5226480836236934\n"
          ]
        }
      ]
    },
    {
      "cell_type": "markdown",
      "source": [
        "###Recall"
      ],
      "metadata": {
        "id": "D5qr4jkeVpzE"
      }
    },
    {
      "cell_type": "code",
      "source": [
        "from sklearn.metrics import recall_score"
      ],
      "metadata": {
        "id": "y4qwS3V_VrJ2"
      },
      "execution_count": 62,
      "outputs": []
    },
    {
      "cell_type": "code",
      "source": [
        "#modelo KNN\n",
        "print(recall_score(y_teste, predito_knn))"
      ],
      "metadata": {
        "colab": {
          "base_uri": "https://localhost:8080/"
        },
        "id": "Y_YCryc_VvQK",
        "outputId": "bf07331f-ab05-4bd5-f205-09f179c7c5e8"
      },
      "execution_count": 63,
      "outputs": [
        {
          "output_type": "stream",
          "name": "stdout",
          "text": [
            "0.46271186440677964\n"
          ]
        }
      ]
    },
    {
      "cell_type": "code",
      "source": [
        "#modelo Bernoulli Naive Bayes\n",
        "print(recall_score(y_teste, predito_BNb))"
      ],
      "metadata": {
        "colab": {
          "base_uri": "https://localhost:8080/"
        },
        "id": "wl5KKv4sVxMC",
        "outputId": "ed8d1b95-649b-4688-a6f0-de5e66eb9160"
      },
      "execution_count": 64,
      "outputs": [
        {
          "output_type": "stream",
          "name": "stdout",
          "text": [
            "0.8016949152542373\n"
          ]
        }
      ]
    },
    {
      "cell_type": "code",
      "source": [
        "#modelo árvore de decisão\n",
        "print(recall_score(y_teste, predito_ArvoreDecisao))"
      ],
      "metadata": {
        "colab": {
          "base_uri": "https://localhost:8080/"
        },
        "id": "m7Mkau4QVyro",
        "outputId": "2877bdb9-ef2d-4dc4-d968-aee7e92a4bc8"
      },
      "execution_count": 65,
      "outputs": [
        {
          "output_type": "stream",
          "name": "stdout",
          "text": [
            "0.5084745762711864\n"
          ]
        }
      ]
    },
    {
      "cell_type": "markdown",
      "source": [
        "## Escolhendo a melhor métrica"
      ],
      "metadata": {
        "id": "sIGWgTLxXlJQ"
      }
    },
    {
      "cell_type": "code",
      "source": [
        "print('Modelo KNN:', precision_score(y_teste, predito_knn))\n",
        "print('Modelo Bernoulli de Naive Bayes:', precision_score(y_teste, predito_BNb))\n",
        "print('Modelo Àrvore de Decisão:', precision_score(y_teste, predito_ArvoreDecisao))\n"
      ],
      "metadata": {
        "colab": {
          "base_uri": "https://localhost:8080/"
        },
        "id": "mrDMA3byXp0M",
        "outputId": "b0ce7dce-07e9-497e-e396-25deaea3ca1a"
      },
      "execution_count": 66,
      "outputs": [
        {
          "output_type": "stream",
          "name": "stdout",
          "text": [
            "Modelo KNN: 0.5526315789473685\n",
            "Modelo Bernoulli de Naive Bayes: 0.49737118822292326\n",
            "Modelo Àrvore de Decisão: 0.5226480836236934\n"
          ]
        }
      ]
    }
  ]
}